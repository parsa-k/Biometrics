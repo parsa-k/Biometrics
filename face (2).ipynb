{
  "cells": [
    {
      "cell_type": "markdown",
      "metadata": {
        "id": "1p3r7V0jBu5L"
      },
      "source": [
        "# Library"
      ]
    },
    {
      "cell_type": "code",
      "execution_count": 1,
      "metadata": {
        "id": "TvjbRdtnBx69"
      },
      "outputs": [],
      "source": [
        "import os\n",
        "import torch\n",
        "import torch.nn as nn\n",
        "import torch.optim as optim\n",
        "from torchvision import models, transforms\n",
        "from torch.utils.data import DataLoader, Dataset\n",
        "from PIL import Image\n",
        "import pandas as pd"
      ]
    },
    {
      "cell_type": "code",
      "execution_count": 10,
      "metadata": {
        "colab": {
          "base_uri": "https://localhost:8080/"
        },
        "id": "KGJwtk3zBcET",
        "outputId": "ed53573d-79af-4c2b-a276-15faabe1e2cd"
      },
      "outputs": [],
      "source": [
        "# Download dataset\n",
        "\n",
        "\n",
        "images_dir = os.path.join(\"./data/img_align_celeba\")\n",
        "attributes_file = os.path.join(\"./data/list_attr_celeba.csv\")\n",
        "land_mark = os.path.join(\"./data/list_landmarks_align_celeba.csv\")\n",
        "face_box = os.path.join(\"./data/list_bbox_celeba.csv\")\n",
        "partition = os.path.join(\"./data/list_eval_partition.csv\")\n",
        "\n",
        "obj = 20\n",
        "batch_size = 128"
      ]
    },
    {
      "cell_type": "code",
      "execution_count": 11,
      "metadata": {
        "colab": {
          "base_uri": "https://localhost:8080/"
        },
        "id": "FrdYx8sawKvz",
        "outputId": "9734c058-068d-41d4-c8fb-062b69c279ce"
      },
      "outputs": [
        {
          "name": "stderr",
          "output_type": "stream",
          "text": [
            "C:\\Users\\parsak\\AppData\\Local\\Temp\\ipykernel_21512\\2217787362.py:4: FutureWarning: The 'delim_whitespace' keyword in pd.read_csv is deprecated and will be removed in a future version. Use ``sep='\\s+'`` instead\n",
            "  image_labels = pd.read_csv(file_path, delim_whitespace=True, header=None, names=[\"image_name\", \"label\"])\n"
          ]
        },
        {
          "name": "stdout",
          "output_type": "stream",
          "text": [
            "Number of valid labels: 2343\n",
            "   image_name  label\n",
            "0  000001.jpg   2880\n",
            "1  000002.jpg   2937\n",
            "2  000003.jpg   8692\n",
            "3  000004.jpg   5805\n",
            "5  000006.jpg   4153\n",
            "Filtered labels saved to ./filtered_identity_CelebA.txt\n"
          ]
        }
      ],
      "source": [
        "file_path = \"./data/identity_CelebA.txt\"\n",
        "\n",
        "# Load image labels into a DataFrame\n",
        "image_labels = pd.read_csv(file_path, delim_whitespace=True, header=None, names=[\"image_name\", \"label\"])\n",
        "\n",
        "# Count the number of images per label\n",
        "label_counts = image_labels[\"label\"].value_counts()\n",
        "\n",
        "# Filter labels with at least 29 images\n",
        "valid_labels = label_counts[label_counts == 30].index\n",
        "\n",
        "# Filter the DataFrame to keep only valid labels\n",
        "filtered_image_labels = image_labels[image_labels[\"label\"].isin(valid_labels)]\n",
        "\n",
        "# Example usage: Print the number of valid labels and a preview of the filtered DataFrame\n",
        "print(f\"Number of valid labels: {len(valid_labels)}\")\n",
        "print(filtered_image_labels.head())\n",
        "\n",
        "# Optional: Save the filtered DataFrame to a new file if needed\n",
        "filtered_file_path = \"./filtered_identity_CelebA.txt\"\n",
        "filtered_image_labels.to_csv(filtered_file_path, index=False, header=False, sep=\" \")\n",
        "print(f\"Filtered labels saved to {filtered_file_path}\")"
      ]
    },
    {
      "cell_type": "code",
      "execution_count": 12,
      "metadata": {
        "colab": {
          "base_uri": "https://localhost:8080/"
        },
        "id": "HTmNMlVl65x_",
        "outputId": "fced8eb7-e009-4b7a-f840-3db4a110df4e"
      },
      "outputs": [
        {
          "name": "stdout",
          "output_type": "stream",
          "text": [
            "     image_name  label\n",
            "31   000059.jpg      5\n",
            "47   000105.jpg      9\n",
            "170  000457.jpg     11\n",
            "180  000485.jpg     13\n",
            "226  000622.jpg      1\n",
            "500 selected labels and images saved to ./selected_500_labels_images_renamed.txt\n"
          ]
        },
        {
          "name": "stderr",
          "output_type": "stream",
          "text": [
            "C:\\Users\\parsak\\AppData\\Local\\Temp\\ipykernel_21512\\768325506.py:6: FutureWarning: The 'delim_whitespace' keyword in pd.read_csv is deprecated and will be removed in a future version. Use ``sep='\\s+'`` instead\n",
            "  filtered_image_labels = pd.read_csv(\"./filtered_identity_CelebA.txt\", delim_whitespace=True, header=None, names=[\"image_name\", \"label\"])\n",
            "C:\\Users\\parsak\\AppData\\Local\\Temp\\ipykernel_21512\\768325506.py:21: SettingWithCopyWarning: \n",
            "A value is trying to be set on a copy of a slice from a DataFrame.\n",
            "Try using .loc[row_indexer,col_indexer] = value instead\n",
            "\n",
            "See the caveats in the documentation: https://pandas.pydata.org/pandas-docs/stable/user_guide/indexing.html#returning-a-view-versus-a-copy\n",
            "  selected_images[\"label\"] = selected_images[\"label\"].map(label_mapping)\n"
          ]
        }
      ],
      "source": [
        "import random\n",
        "import os\n",
        "import pandas as pd\n",
        "\n",
        "# Load the filtered labels DataFrame (from the previous step)\n",
        "filtered_image_labels = pd.read_csv(\"./filtered_identity_CelebA.txt\", delim_whitespace=True, header=None, names=[\"image_name\", \"label\"])\n",
        "\n",
        "# Extract the unique labels from the filtered data\n",
        "unique_labels = filtered_image_labels[\"label\"].unique()\n",
        "\n",
        "# Randomly select 500 labels from the unique labels\n",
        "selected_labels = random.sample(list(unique_labels), obj)\n",
        "\n",
        "# Create a mapping from the original labels to new labels (0 to 499)\n",
        "label_mapping = {original_label: new_label for new_label, original_label in enumerate(selected_labels, start=0)}\n",
        "\n",
        "# Filter the dataset to include only images from the selected labels\n",
        "selected_images = filtered_image_labels[filtered_image_labels[\"label\"].isin(selected_labels)]\n",
        "\n",
        "# Replace the original labels with the new labels in the filtered dataset\n",
        "selected_images[\"label\"] = selected_images[\"label\"].map(label_mapping)\n",
        "\n",
        "# Example: Print the first 5 rows of the updated DataFrame\n",
        "print(selected_images.head())\n",
        "\n",
        "# Optionally, save the updated DataFrame to a new file\n",
        "selected_images_file = \"./selected_500_labels_images_renamed.txt\"\n",
        "selected_images.to_csv(selected_images_file, index=False, header=False, sep=\" \")\n",
        "print(f\"500 selected labels and images saved to {selected_images_file}\")\n"
      ]
    },
    {
      "cell_type": "code",
      "execution_count": 13,
      "metadata": {
        "colab": {
          "base_uri": "https://localhost:8080/"
        },
        "id": "a_AZsbcjc7cv",
        "outputId": "947073c1-ced0-4637-886a-0b84bc3cf7c2"
      },
      "outputs": [
        {
          "name": "stdout",
          "output_type": "stream",
          "text": [
            "Train DataLoader: 4 batches\n",
            "Validation DataLoader: 1 batches\n",
            "Test DataLoader: 1 batches\n"
          ]
        }
      ],
      "source": [
        "import os\n",
        "import random\n",
        "import torch\n",
        "from torchvision import transforms\n",
        "from torch.utils.data import DataLoader, Dataset\n",
        "from PIL import Image\n",
        "import pandas as pd\n",
        "from sklearn.model_selection import train_test_split\n",
        "\n",
        "# Define the image preprocessing transform (resize, normalization)\n",
        "transform = transforms.Compose([\n",
        "    transforms.Resize((224, 224)),  # Resize to match ResNet18 input size\n",
        "    transforms.ToTensor(),  # Convert image to Tensor\n",
        "    transforms.Normalize(mean=[0.485, 0.456, 0.406], std=[0.229, 0.224, 0.225])  # Normalize as per ImageNet stats\n",
        "])\n",
        "\n",
        "# Custom dataset class\n",
        "class CelebADataset(Dataset):\n",
        "    def __init__(self, image_labels_df, images_dir, transform=None):\n",
        "        self.image_labels_df = image_labels_df\n",
        "        self.images_dir = images_dir\n",
        "        self.transform = transform\n",
        "\n",
        "    def __len__(self):\n",
        "        return len(self.image_labels_df)\n",
        "\n",
        "    def __getitem__(self, idx):\n",
        "        # Get the image path and label\n",
        "        image_name = self.image_labels_df.iloc[idx, 0]\n",
        "        label = self.image_labels_df.iloc[idx, 1]\n",
        "\n",
        "        # Open the image\n",
        "        image_path = f\"{self.images_dir}/{image_name}\"\n",
        "        image = Image.open(image_path)\n",
        "\n",
        "        # Apply transformations\n",
        "        if self.transform:\n",
        "            image = self.transform(image)\n",
        "\n",
        "        return image, label\n",
        "\n",
        "# Split the selected_images into train, validation, and test sets directly\n",
        "train_data, temp_data = train_test_split(\n",
        "    selected_images,\n",
        "    train_size=0.8,\n",
        "    stratify=selected_images[\"label\"]\n",
        ")\n",
        "valid_data, test_data = train_test_split(\n",
        "    temp_data,\n",
        "    train_size=0.5,  # Split the remaining 20% equally\n",
        "    stratify=temp_data[\"label\"]\n",
        ")\n",
        "\n",
        "# Create datasets\n",
        "train_dataset = CelebADataset(train_data, images_dir, transform=transform)\n",
        "valid_dataset = CelebADataset(valid_data, images_dir, transform=transform)\n",
        "test_dataset = CelebADataset(test_data, images_dir, transform=transform)\n",
        "\n",
        "# Create DataLoaders\n",
        "\n",
        "train_loader = DataLoader(train_dataset, batch_size=batch_size, shuffle=True)\n",
        "valid_loader = DataLoader(valid_dataset, batch_size=batch_size, shuffle=False)\n",
        "test_loader = DataLoader(test_dataset, batch_size=batch_size, shuffle=False)\n",
        "\n",
        "# Example: Print the number of batches for each DataLoader\n",
        "print(f\"Train DataLoader: {len(train_loader)} batches\")\n",
        "print(f\"Validation DataLoader: {len(valid_loader)} batches\")\n",
        "print(f\"Test DataLoader: {len(test_loader)} batches\")\n"
      ]
    },
    {
      "cell_type": "code",
      "execution_count": 14,
      "metadata": {
        "colab": {
          "base_uri": "https://localhost:8080/"
        },
        "id": "6Vl7YDNQ1_QE",
        "outputId": "5a007aa5-b874-4ed5-8c80-c74c8bd7c8a5"
      },
      "outputs": [
        {
          "name": "stdout",
          "output_type": "stream",
          "text": [
            "Images shape: torch.Size([128, 3, 224, 224])\n",
            "Labels shape: torch.Size([128])\n",
            "tensor([16,  4,  1, 19, 15,  2, 15,  6,  4,  6, 19,  5, 17,  5,  5, 11,  9, 11,\n",
            "         7,  0,  7, 15, 18,  2, 18, 18,  6,  9,  6, 14, 11, 12, 13, 10,  9,  5,\n",
            "         6, 16,  1, 15, 12, 17,  2, 18, 12,  2,  7,  0, 11, 10,  8,  6,  8,  4,\n",
            "        18, 11, 10,  3, 13, 11,  8, 19, 15, 12,  4, 12, 19, 12,  3, 15,  8,  5,\n",
            "         6,  6,  5, 17, 14, 16,  2, 18,  7,  2, 15,  7,  5,  4, 19,  8,  1,  9,\n",
            "         9,  2,  5, 15,  0,  7,  4, 12, 11, 11,  9, 19,  7,  7,  2,  9, 17, 14,\n",
            "        17,  2, 18, 10, 11,  5,  9,  0, 13, 18, 19, 11, 19, 10, 10, 16, 14, 17,\n",
            "         0, 19])\n",
            "Images shape: torch.Size([60, 3, 224, 224])\n",
            "Labels shape: torch.Size([60])\n",
            "tensor([ 4, 18, 17,  7, 11, 13, 16,  0, 10,  3,  4,  5,  2,  1,  0,  8, 15, 10,\n",
            "        17,  9, 19,  5, 17,  0,  8, 19, 13,  4, 14, 12,  8, 18,  2,  3,  6,  2,\n",
            "        15, 14, 12, 19,  3, 18,  7,  1,  5,  9,  1,  7,  9,  6, 15, 11, 13, 11,\n",
            "        16, 16, 14, 12, 10,  6])\n",
            "Images shape: torch.Size([60, 3, 224, 224])\n",
            "Labels shape: torch.Size([60])\n",
            "tensor([10, 15,  9, 10, 12, 19, 14,  0,  4, 18, 17,  7, 13,  0, 12, 11,  2,  7,\n",
            "         5,  9,  6, 19,  5,  2, 10, 13,  6,  1, 15,  1,  4,  8,  2,  4,  1, 12,\n",
            "         5, 18,  7, 11,  0, 11, 19, 16, 16, 14,  3, 13, 18,  8, 16,  3,  9,  3,\n",
            "        15, 17,  6,  8, 17, 14])\n"
          ]
        }
      ],
      "source": [
        "for images, labels in train_loader:\n",
        "    print(f\"Images shape: {images.shape}\")\n",
        "    print(f\"Labels shape: {labels.shape}\")\n",
        "    print(labels)\n",
        "    break  # Break after the first batch to avoid printing all batches\n",
        "\n",
        "for images, labels in valid_loader:\n",
        "    print(f\"Images shape: {images.shape}\")\n",
        "    print(f\"Labels shape: {labels.shape}\")\n",
        "    print(labels)\n",
        "    break  # Break after the first batch to avoid printing all batches\n",
        "\n",
        "for images, labels in test_loader:\n",
        "    print(f\"Images shape: {images.shape}\")\n",
        "    print(f\"Labels shape: {labels.shape}\")\n",
        "    print(labels)\n",
        "    break  # Break after the first batch to avoid printing all batches\n",
        "\n"
      ]
    },
    {
      "cell_type": "code",
      "execution_count": null,
      "metadata": {
        "colab": {
          "base_uri": "https://localhost:8080/",
          "height": 1000
        },
        "collapsed": true,
        "id": "xUL9XgPhf4hp",
        "outputId": "cbce94fd-faf9-4230-ec2e-d582247e9d78"
      },
      "outputs": [],
      "source": [
        "import matplotlib.pyplot as plt\n",
        "import numpy as np\n",
        "from torchvision.utils import make_grid\n",
        "import torch\n",
        "\n",
        "\n",
        "\n",
        "# Function to plot images in a grid\n",
        "def plot_images(images, title=\"Images\"):\n",
        "    # Create a grid of images\n",
        "    grid = make_grid(images, nrow=8, padding=2)\n",
        "\n",
        "    # Convert to numpy array for plotting\n",
        "    np_grid = grid.numpy().transpose((1, 2, 0))  # Convert from CHW to HWC\n",
        "\n",
        "    # Plot the grid\n",
        "    plt.figure(figsize=(12, 12))\n",
        "    plt.imshow(np_grid)\n",
        "    plt.title(title)\n",
        "    plt.axis('off')\n",
        "    plt.show()\n",
        "\n",
        "# Function to get and plot images for a specific label from the dataset\n",
        "def plot_images_by_label(label, train_dataset, valid_dataset, test_dataset, transform=None):\n",
        "    # Get all images belonging to the given label from each dataset\n",
        "    train_images = []\n",
        "    train_labels = []\n",
        "\n",
        "    for img, lbl in train_dataset:\n",
        "        if lbl == label:\n",
        "            train_images.append(img)\n",
        "            train_labels.append(lbl)\n",
        "\n",
        "    valid_images = []\n",
        "    valid_labels = []\n",
        "\n",
        "    for img, lbl in valid_dataset:\n",
        "        if lbl == label:\n",
        "            valid_images.append(img)\n",
        "            valid_labels.append(lbl)\n",
        "\n",
        "    test_images = []\n",
        "    test_labels = []\n",
        "\n",
        "    for img, lbl in test_dataset:\n",
        "        if lbl == label:\n",
        "            test_images.append(img)\n",
        "            test_labels.append(lbl)\n",
        "\n",
        "    # Plot the images for the train set\n",
        "    if train_images:\n",
        "        plot_images(train_images, title=f\"Train Set - Label {label}\")\n",
        "    else:\n",
        "        print(f\"No images found for Label {label} in Train Set.\")\n",
        "\n",
        "    # Plot the images for the validation set\n",
        "    if valid_images:\n",
        "        plot_images(valid_images, title=f\"Validation Set - Label {label}\")\n",
        "    else:\n",
        "        print(f\"No images found for Label {label} in Validation Set.\")\n",
        "\n",
        "    # Plot the images for the test set\n",
        "    if test_images:\n",
        "        plot_images(test_images, title=f\"Test Set - Label {label}\")\n",
        "    else:\n",
        "        print(f\"No images found for Label {label} in Test Set.\")\n",
        "\n",
        "# Pick a label\n",
        "label_to_plot = list(set(selected_images[\"label\"]))[155]\n",
        "\n",
        "# Call the function to plot images for the selected label\n",
        "plot_images_by_label(label_to_plot, train_dataset, valid_dataset, test_dataset, transform=transform)\n",
        "\n"
      ]
    },
    {
      "cell_type": "code",
      "execution_count": null,
      "metadata": {
        "colab": {
          "base_uri": "https://localhost:8080/",
          "height": 1000
        },
        "collapsed": true,
        "id": "kIBd4ZHes9D0",
        "outputId": "d45c6712-c3a8-4b26-e3c0-130c4d1f6744"
      },
      "outputs": [],
      "source": [
        "import matplotlib.pyplot as plt\n",
        "import numpy as np\n",
        "\n",
        "# Function to denormalize the images for visualization\n",
        "def denormalize(image_tensor):\n",
        "    mean = np.array([0.485, 0.456, 0.406])\n",
        "    std = np.array([0.229, 0.224, 0.225])\n",
        "    image = image_tensor.permute(1, 2, 0).numpy()  # Convert to HWC format\n",
        "    image = std * image + mean  # Reverse normalization\n",
        "    image = np.clip(image, 0, 1)  # Clip values to [0, 1] for valid image range\n",
        "    return image\n",
        "\n",
        "# Function to display images with labels from a DataLoader\n",
        "def display_batch(data_loader, title=\"Batch\"):\n",
        "    # Get a batch of data\n",
        "    images, labels = next(iter(data_loader))\n",
        "\n",
        "    # Plot the images in a grid\n",
        "    batch_size = len(images)\n",
        "    plt.figure(figsize=(12, 8))\n",
        "    for i in range(min(batch_size, 36)):  # Display at most 16 images\n",
        "        plt.subplot(6, 6, i + 1)  # 4x4 grid\n",
        "        image = denormalize(images[i])  # Denormalize the image\n",
        "        plt.imshow(image)\n",
        "        plt.title(f\"Label: {labels[i].item()}\")\n",
        "        plt.axis(\"off\")\n",
        "\n",
        "    plt.suptitle(title)\n",
        "    plt.tight_layout()\n",
        "    plt.show()\n",
        "\n",
        "# Example usage:\n",
        "print(\"Training Batch:\")\n",
        "display_batch(train_loader, title=\"Training Batch\")\n",
        "\n",
        "print(\"Validation Batch:\")\n",
        "display_batch(valid_loader, title=\"Validation Batch\")\n",
        "\n",
        "print(\"Test Batch:\")\n",
        "display_batch(test_loader, title=\"Test Batch\")\n"
      ]
    },
    {
      "cell_type": "markdown",
      "metadata": {},
      "source": [
        "# train the model"
      ]
    },
    {
      "cell_type": "code",
      "execution_count": 15,
      "metadata": {
        "colab": {
          "base_uri": "https://localhost:8080/",
          "height": 408
        },
        "id": "ISh2ZaJOnAen",
        "outputId": "0dd57d49-6744-4bfd-b863-ab861c6111c5"
      },
      "outputs": [
        {
          "name": "stderr",
          "output_type": "stream",
          "text": [
            "c:\\Users\\parsak\\AppData\\Local\\anaconda3\\envs\\py311\\Lib\\site-packages\\torchvision\\models\\_utils.py:208: UserWarning: The parameter 'pretrained' is deprecated since 0.13 and may be removed in the future, please use 'weights' instead.\n",
            "  warnings.warn(\n",
            "c:\\Users\\parsak\\AppData\\Local\\anaconda3\\envs\\py311\\Lib\\site-packages\\torchvision\\models\\_utils.py:223: UserWarning: Arguments other than a weight enum or `None` for 'weights' are deprecated since 0.13 and may be removed in the future. The current behavior is equivalent to passing `weights=ResNet18_Weights.IMAGENET1K_V1`. You can also use `weights=ResNet18_Weights.DEFAULT` to get the most up-to-date weights.\n",
            "  warnings.warn(msg)\n"
          ]
        }
      ],
      "source": [
        "import torch\n",
        "import torch.optim as optim\n",
        "import torch.nn as nn\n",
        "from torchvision import models\n",
        "from tqdm import tqdm\n",
        "\n",
        "# Load the pre-trained ResNet18 model\n",
        "model = models.resnet18(pretrained=True)\n",
        "\n",
        "# Modify the final fully connected layer to match the number of labels (for CelebA, you have N unique labels)\n",
        "num_labels = len(selected_labels)  # This is the number of unique labels after filtering\n",
        "model.fc = nn.Linear(model.fc.in_features, num_labels)\n",
        "\n",
        "# Freeze all layers except the final fully connected layer\n",
        "for param in model.parameters():\n",
        "    param.requires_grad = False\n",
        "\n",
        "# Unfreeze the last fully connected layer to allow it to be trained\n",
        "for param in model.fc.parameters():\n",
        "    param.requires_grad = True\n",
        "\n",
        "# Move the model to the appropriate device (GPU if available)\n",
        "device = torch.device(\"cuda\" if torch.cuda.is_available() else \"cpu\")\n",
        "model = model.to(device)\n",
        "\n",
        "# Define the loss function and optimizer\n",
        "criterion = nn.CrossEntropyLoss()  # Multi-class classification loss function\n",
        "optimizer = optim.SGD(model.fc.parameters(), lr=0.001, momentum=0.9)  # Only optimize the last layer\n",
        "\n",
        "# Number of epochs for training\n",
        "num_epochs = 10\n",
        "\n",
        "# Training and validation loop\n",
        "def train_model(model, train_loader, valid_loader, criterion, optimizer, num_epochs=10):\n",
        "    best_accuracy = 0.0\n",
        "\n",
        "    for epoch in range(num_epochs):\n",
        "        model.train()\n",
        "        running_loss = 0.0\n",
        "        correct_train = 0\n",
        "        total_train = 0\n",
        "\n",
        "        # Train loop\n",
        "        for images, labels in tqdm(train_loader, desc=f\"Epoch {epoch+1}/{num_epochs} (Train)\"):\n",
        "            images, labels = images.to(device), labels.to(device)\n",
        "\n",
        "            optimizer.zero_grad()\n",
        "            outputs = model(images)\n",
        "            loss = criterion(outputs, labels)\n",
        "            loss.backward()\n",
        "            optimizer.step()\n",
        "\n",
        "            running_loss += loss.item()\n",
        "\n",
        "            _, predicted = torch.max(outputs, 1)\n",
        "            correct_train += (predicted == labels).sum().item()\n",
        "            total_train += labels.size(0)\n",
        "\n",
        "        # Calculate training accuracy\n",
        "        train_accuracy = correct_train / total_train\n",
        "\n",
        "        # Validation loop\n",
        "        model.eval()\n",
        "        correct_valid = 0\n",
        "        total_valid = 0\n",
        "        with torch.no_grad():\n",
        "            for images, labels in valid_loader:\n",
        "                images, labels = images.to(device), labels.to(device)\n",
        "                outputs = model(images)\n",
        "\n",
        "                _, predicted = torch.max(outputs, 1)\n",
        "                correct_valid += (predicted == labels).sum().item()\n",
        "                total_valid += labels.size(0)\n",
        "\n",
        "        # Calculate validation accuracy\n",
        "        valid_accuracy = correct_valid / total_valid\n",
        "\n",
        "        # Print loss and accuracy for each epoch\n",
        "        print(f\"Epoch {epoch+1}/{num_epochs}, Loss: {running_loss/len(train_loader):.4f}, \"\n",
        "              f\"Train Accuracy: {train_accuracy:.4f}, Validation Accuracy: {valid_accuracy:.4f}\")\n",
        "\n",
        "        # Save the model if validation accuracy is better\n",
        "        if valid_accuracy > best_accuracy:\n",
        "            best_accuracy = valid_accuracy\n",
        "            torch.save(model.state_dict(), \"best_resnet18.pth\")\n",
        "\n",
        "\n"
      ]
    },
    {
      "cell_type": "code",
      "execution_count": 16,
      "metadata": {},
      "outputs": [
        {
          "name": "stderr",
          "output_type": "stream",
          "text": [
            "Epoch 1/50 (Train): 100%|██████████| 4/4 [00:11<00:00,  3.00s/it]\n"
          ]
        },
        {
          "name": "stdout",
          "output_type": "stream",
          "text": [
            "Epoch 1/50, Loss: 3.1670, Train Accuracy: 0.0458, Validation Accuracy: 0.0333\n"
          ]
        },
        {
          "name": "stderr",
          "output_type": "stream",
          "text": [
            "Epoch 2/50 (Train): 100%|██████████| 4/4 [00:08<00:00,  2.14s/it]\n"
          ]
        },
        {
          "name": "stdout",
          "output_type": "stream",
          "text": [
            "Epoch 2/50, Loss: 3.0916, Train Accuracy: 0.0563, Validation Accuracy: 0.0667\n"
          ]
        },
        {
          "name": "stderr",
          "output_type": "stream",
          "text": [
            "Epoch 3/50 (Train): 100%|██████████| 4/4 [00:08<00:00,  2.25s/it]\n"
          ]
        },
        {
          "name": "stdout",
          "output_type": "stream",
          "text": [
            "Epoch 3/50, Loss: 3.0143, Train Accuracy: 0.0708, Validation Accuracy: 0.1000\n"
          ]
        },
        {
          "name": "stderr",
          "output_type": "stream",
          "text": [
            "Epoch 4/50 (Train): 100%|██████████| 4/4 [00:08<00:00,  2.21s/it]\n"
          ]
        },
        {
          "name": "stdout",
          "output_type": "stream",
          "text": [
            "Epoch 4/50, Loss: 2.9349, Train Accuracy: 0.1125, Validation Accuracy: 0.1167\n"
          ]
        },
        {
          "name": "stderr",
          "output_type": "stream",
          "text": [
            "Epoch 5/50 (Train): 100%|██████████| 4/4 [00:08<00:00,  2.19s/it]\n"
          ]
        },
        {
          "name": "stdout",
          "output_type": "stream",
          "text": [
            "Epoch 5/50, Loss: 2.8612, Train Accuracy: 0.1313, Validation Accuracy: 0.1667\n"
          ]
        },
        {
          "name": "stderr",
          "output_type": "stream",
          "text": [
            "Epoch 6/50 (Train): 100%|██████████| 4/4 [00:09<00:00,  2.26s/it]\n"
          ]
        },
        {
          "name": "stdout",
          "output_type": "stream",
          "text": [
            "Epoch 6/50, Loss: 2.7932, Train Accuracy: 0.1708, Validation Accuracy: 0.1667\n"
          ]
        },
        {
          "name": "stderr",
          "output_type": "stream",
          "text": [
            "Epoch 7/50 (Train): 100%|██████████| 4/4 [00:12<00:00,  3.02s/it]\n"
          ]
        },
        {
          "name": "stdout",
          "output_type": "stream",
          "text": [
            "Epoch 7/50, Loss: 2.7332, Train Accuracy: 0.2146, Validation Accuracy: 0.2000\n"
          ]
        },
        {
          "name": "stderr",
          "output_type": "stream",
          "text": [
            "Epoch 8/50 (Train): 100%|██████████| 4/4 [00:08<00:00,  2.20s/it]\n"
          ]
        },
        {
          "name": "stdout",
          "output_type": "stream",
          "text": [
            "Epoch 8/50, Loss: 2.6572, Train Accuracy: 0.2542, Validation Accuracy: 0.2333\n"
          ]
        },
        {
          "name": "stderr",
          "output_type": "stream",
          "text": [
            "Epoch 9/50 (Train): 100%|██████████| 4/4 [00:09<00:00,  2.27s/it]\n"
          ]
        },
        {
          "name": "stdout",
          "output_type": "stream",
          "text": [
            "Epoch 9/50, Loss: 2.5839, Train Accuracy: 0.3063, Validation Accuracy: 0.2667\n"
          ]
        },
        {
          "name": "stderr",
          "output_type": "stream",
          "text": [
            "Epoch 10/50 (Train): 100%|██████████| 4/4 [00:09<00:00,  2.30s/it]\n"
          ]
        },
        {
          "name": "stdout",
          "output_type": "stream",
          "text": [
            "Epoch 10/50, Loss: 2.5113, Train Accuracy: 0.3542, Validation Accuracy: 0.2667\n"
          ]
        },
        {
          "name": "stderr",
          "output_type": "stream",
          "text": [
            "Epoch 11/50 (Train): 100%|██████████| 4/4 [00:09<00:00,  2.25s/it]\n"
          ]
        },
        {
          "name": "stdout",
          "output_type": "stream",
          "text": [
            "Epoch 11/50, Loss: 2.4481, Train Accuracy: 0.3854, Validation Accuracy: 0.3167\n"
          ]
        },
        {
          "name": "stderr",
          "output_type": "stream",
          "text": [
            "Epoch 12/50 (Train): 100%|██████████| 4/4 [00:08<00:00,  2.21s/it]\n"
          ]
        },
        {
          "name": "stdout",
          "output_type": "stream",
          "text": [
            "Epoch 12/50, Loss: 2.3942, Train Accuracy: 0.4354, Validation Accuracy: 0.4000\n"
          ]
        },
        {
          "name": "stderr",
          "output_type": "stream",
          "text": [
            "Epoch 13/50 (Train): 100%|██████████| 4/4 [00:08<00:00,  2.17s/it]\n"
          ]
        },
        {
          "name": "stdout",
          "output_type": "stream",
          "text": [
            "Epoch 13/50, Loss: 2.3338, Train Accuracy: 0.4375, Validation Accuracy: 0.4167\n"
          ]
        },
        {
          "name": "stderr",
          "output_type": "stream",
          "text": [
            "Epoch 14/50 (Train): 100%|██████████| 4/4 [00:09<00:00,  2.26s/it]\n"
          ]
        },
        {
          "name": "stdout",
          "output_type": "stream",
          "text": [
            "Epoch 14/50, Loss: 2.2686, Train Accuracy: 0.4792, Validation Accuracy: 0.4167\n"
          ]
        },
        {
          "name": "stderr",
          "output_type": "stream",
          "text": [
            "Epoch 15/50 (Train): 100%|██████████| 4/4 [00:09<00:00,  2.38s/it]\n"
          ]
        },
        {
          "name": "stdout",
          "output_type": "stream",
          "text": [
            "Epoch 15/50, Loss: 2.2053, Train Accuracy: 0.5271, Validation Accuracy: 0.4167\n"
          ]
        },
        {
          "name": "stderr",
          "output_type": "stream",
          "text": [
            "Epoch 16/50 (Train): 100%|██████████| 4/4 [00:09<00:00,  2.33s/it]\n"
          ]
        },
        {
          "name": "stdout",
          "output_type": "stream",
          "text": [
            "Epoch 16/50, Loss: 2.1637, Train Accuracy: 0.5458, Validation Accuracy: 0.4333\n"
          ]
        },
        {
          "name": "stderr",
          "output_type": "stream",
          "text": [
            "Epoch 17/50 (Train): 100%|██████████| 4/4 [00:08<00:00,  2.12s/it]\n"
          ]
        },
        {
          "name": "stdout",
          "output_type": "stream",
          "text": [
            "Epoch 17/50, Loss: 2.1051, Train Accuracy: 0.5604, Validation Accuracy: 0.4667\n"
          ]
        },
        {
          "name": "stderr",
          "output_type": "stream",
          "text": [
            "Epoch 18/50 (Train): 100%|██████████| 4/4 [00:08<00:00,  2.11s/it]\n"
          ]
        },
        {
          "name": "stdout",
          "output_type": "stream",
          "text": [
            "Epoch 18/50, Loss: 2.0557, Train Accuracy: 0.6000, Validation Accuracy: 0.5000\n"
          ]
        },
        {
          "name": "stderr",
          "output_type": "stream",
          "text": [
            "Epoch 19/50 (Train): 100%|██████████| 4/4 [00:08<00:00,  2.18s/it]\n"
          ]
        },
        {
          "name": "stdout",
          "output_type": "stream",
          "text": [
            "Epoch 19/50, Loss: 1.9963, Train Accuracy: 0.6271, Validation Accuracy: 0.5000\n"
          ]
        },
        {
          "name": "stderr",
          "output_type": "stream",
          "text": [
            "Epoch 20/50 (Train): 100%|██████████| 4/4 [00:08<00:00,  2.19s/it]\n"
          ]
        },
        {
          "name": "stdout",
          "output_type": "stream",
          "text": [
            "Epoch 20/50, Loss: 1.9486, Train Accuracy: 0.6396, Validation Accuracy: 0.5000\n"
          ]
        },
        {
          "name": "stderr",
          "output_type": "stream",
          "text": [
            "Epoch 21/50 (Train): 100%|██████████| 4/4 [00:10<00:00,  2.55s/it]\n"
          ]
        },
        {
          "name": "stdout",
          "output_type": "stream",
          "text": [
            "Epoch 21/50, Loss: 1.9112, Train Accuracy: 0.6521, Validation Accuracy: 0.5000\n"
          ]
        },
        {
          "name": "stderr",
          "output_type": "stream",
          "text": [
            "Epoch 22/50 (Train): 100%|██████████| 4/4 [00:08<00:00,  2.19s/it]\n"
          ]
        },
        {
          "name": "stdout",
          "output_type": "stream",
          "text": [
            "Epoch 22/50, Loss: 1.8573, Train Accuracy: 0.6792, Validation Accuracy: 0.5000\n"
          ]
        },
        {
          "name": "stderr",
          "output_type": "stream",
          "text": [
            "Epoch 23/50 (Train): 100%|██████████| 4/4 [00:09<00:00,  2.32s/it]\n"
          ]
        },
        {
          "name": "stdout",
          "output_type": "stream",
          "text": [
            "Epoch 23/50, Loss: 1.8207, Train Accuracy: 0.7042, Validation Accuracy: 0.5667\n"
          ]
        },
        {
          "name": "stderr",
          "output_type": "stream",
          "text": [
            "Epoch 24/50 (Train): 100%|██████████| 4/4 [00:08<00:00,  2.20s/it]\n"
          ]
        },
        {
          "name": "stdout",
          "output_type": "stream",
          "text": [
            "Epoch 24/50, Loss: 1.7824, Train Accuracy: 0.7229, Validation Accuracy: 0.5667\n"
          ]
        },
        {
          "name": "stderr",
          "output_type": "stream",
          "text": [
            "Epoch 25/50 (Train): 100%|██████████| 4/4 [00:09<00:00,  2.33s/it]\n"
          ]
        },
        {
          "name": "stdout",
          "output_type": "stream",
          "text": [
            "Epoch 25/50, Loss: 1.7448, Train Accuracy: 0.7396, Validation Accuracy: 0.5833\n"
          ]
        },
        {
          "name": "stderr",
          "output_type": "stream",
          "text": [
            "Epoch 26/50 (Train): 100%|██████████| 4/4 [00:08<00:00,  2.12s/it]\n"
          ]
        },
        {
          "name": "stdout",
          "output_type": "stream",
          "text": [
            "Epoch 26/50, Loss: 1.7078, Train Accuracy: 0.7500, Validation Accuracy: 0.6000\n"
          ]
        },
        {
          "name": "stderr",
          "output_type": "stream",
          "text": [
            "Epoch 27/50 (Train): 100%|██████████| 4/4 [00:08<00:00,  2.20s/it]\n"
          ]
        },
        {
          "name": "stdout",
          "output_type": "stream",
          "text": [
            "Epoch 27/50, Loss: 1.6666, Train Accuracy: 0.7583, Validation Accuracy: 0.6000\n"
          ]
        },
        {
          "name": "stderr",
          "output_type": "stream",
          "text": [
            "Epoch 28/50 (Train): 100%|██████████| 4/4 [00:08<00:00,  2.21s/it]\n"
          ]
        },
        {
          "name": "stdout",
          "output_type": "stream",
          "text": [
            "Epoch 28/50, Loss: 1.6338, Train Accuracy: 0.7771, Validation Accuracy: 0.6167\n"
          ]
        },
        {
          "name": "stderr",
          "output_type": "stream",
          "text": [
            "Epoch 29/50 (Train): 100%|██████████| 4/4 [00:08<00:00,  2.19s/it]\n"
          ]
        },
        {
          "name": "stdout",
          "output_type": "stream",
          "text": [
            "Epoch 29/50, Loss: 1.6031, Train Accuracy: 0.7792, Validation Accuracy: 0.6167\n"
          ]
        },
        {
          "name": "stderr",
          "output_type": "stream",
          "text": [
            "Epoch 30/50 (Train): 100%|██████████| 4/4 [00:09<00:00,  2.32s/it]\n"
          ]
        },
        {
          "name": "stdout",
          "output_type": "stream",
          "text": [
            "Epoch 30/50, Loss: 1.5741, Train Accuracy: 0.7854, Validation Accuracy: 0.6333\n"
          ]
        },
        {
          "name": "stderr",
          "output_type": "stream",
          "text": [
            "Epoch 31/50 (Train): 100%|██████████| 4/4 [00:09<00:00,  2.27s/it]\n"
          ]
        },
        {
          "name": "stdout",
          "output_type": "stream",
          "text": [
            "Epoch 31/50, Loss: 1.5406, Train Accuracy: 0.8000, Validation Accuracy: 0.6167\n"
          ]
        },
        {
          "name": "stderr",
          "output_type": "stream",
          "text": [
            "Epoch 32/50 (Train): 100%|██████████| 4/4 [00:08<00:00,  2.18s/it]\n"
          ]
        },
        {
          "name": "stdout",
          "output_type": "stream",
          "text": [
            "Epoch 32/50, Loss: 1.5161, Train Accuracy: 0.7979, Validation Accuracy: 0.6167\n"
          ]
        },
        {
          "name": "stderr",
          "output_type": "stream",
          "text": [
            "Epoch 33/50 (Train): 100%|██████████| 4/4 [00:08<00:00,  2.22s/it]\n"
          ]
        },
        {
          "name": "stdout",
          "output_type": "stream",
          "text": [
            "Epoch 33/50, Loss: 1.4887, Train Accuracy: 0.8167, Validation Accuracy: 0.6167\n"
          ]
        },
        {
          "name": "stderr",
          "output_type": "stream",
          "text": [
            "Epoch 34/50 (Train): 100%|██████████| 4/4 [00:09<00:00,  2.26s/it]\n"
          ]
        },
        {
          "name": "stdout",
          "output_type": "stream",
          "text": [
            "Epoch 34/50, Loss: 1.4534, Train Accuracy: 0.8187, Validation Accuracy: 0.6167\n"
          ]
        },
        {
          "name": "stderr",
          "output_type": "stream",
          "text": [
            "Epoch 35/50 (Train): 100%|██████████| 4/4 [00:08<00:00,  2.20s/it]\n"
          ]
        },
        {
          "name": "stdout",
          "output_type": "stream",
          "text": [
            "Epoch 35/50, Loss: 1.4249, Train Accuracy: 0.8250, Validation Accuracy: 0.6167\n"
          ]
        },
        {
          "name": "stderr",
          "output_type": "stream",
          "text": [
            "Epoch 36/50 (Train): 100%|██████████| 4/4 [00:08<00:00,  2.21s/it]\n"
          ]
        },
        {
          "name": "stdout",
          "output_type": "stream",
          "text": [
            "Epoch 36/50, Loss: 1.4058, Train Accuracy: 0.8396, Validation Accuracy: 0.6167\n"
          ]
        },
        {
          "name": "stderr",
          "output_type": "stream",
          "text": [
            "Epoch 37/50 (Train): 100%|██████████| 4/4 [00:08<00:00,  2.19s/it]\n"
          ]
        },
        {
          "name": "stdout",
          "output_type": "stream",
          "text": [
            "Epoch 37/50, Loss: 1.3818, Train Accuracy: 0.8458, Validation Accuracy: 0.6167\n"
          ]
        },
        {
          "name": "stderr",
          "output_type": "stream",
          "text": [
            "Epoch 38/50 (Train): 100%|██████████| 4/4 [00:08<00:00,  2.21s/it]\n"
          ]
        },
        {
          "name": "stdout",
          "output_type": "stream",
          "text": [
            "Epoch 38/50, Loss: 1.3596, Train Accuracy: 0.8396, Validation Accuracy: 0.6167\n"
          ]
        },
        {
          "name": "stderr",
          "output_type": "stream",
          "text": [
            "Epoch 39/50 (Train): 100%|██████████| 4/4 [00:08<00:00,  2.23s/it]\n"
          ]
        },
        {
          "name": "stdout",
          "output_type": "stream",
          "text": [
            "Epoch 39/50, Loss: 1.3373, Train Accuracy: 0.8688, Validation Accuracy: 0.6333\n"
          ]
        },
        {
          "name": "stderr",
          "output_type": "stream",
          "text": [
            "Epoch 40/50 (Train): 100%|██████████| 4/4 [00:08<00:00,  2.18s/it]\n"
          ]
        },
        {
          "name": "stdout",
          "output_type": "stream",
          "text": [
            "Epoch 40/50, Loss: 1.2976, Train Accuracy: 0.8667, Validation Accuracy: 0.6500\n"
          ]
        },
        {
          "name": "stderr",
          "output_type": "stream",
          "text": [
            "Epoch 41/50 (Train): 100%|██████████| 4/4 [00:08<00:00,  2.21s/it]\n"
          ]
        },
        {
          "name": "stdout",
          "output_type": "stream",
          "text": [
            "Epoch 41/50, Loss: 1.2914, Train Accuracy: 0.8625, Validation Accuracy: 0.6333\n"
          ]
        },
        {
          "name": "stderr",
          "output_type": "stream",
          "text": [
            "Epoch 42/50 (Train): 100%|██████████| 4/4 [00:08<00:00,  2.16s/it]\n"
          ]
        },
        {
          "name": "stdout",
          "output_type": "stream",
          "text": [
            "Epoch 42/50, Loss: 1.2663, Train Accuracy: 0.8667, Validation Accuracy: 0.6333\n"
          ]
        },
        {
          "name": "stderr",
          "output_type": "stream",
          "text": [
            "Epoch 43/50 (Train): 100%|██████████| 4/4 [00:08<00:00,  2.20s/it]\n"
          ]
        },
        {
          "name": "stdout",
          "output_type": "stream",
          "text": [
            "Epoch 43/50, Loss: 1.2475, Train Accuracy: 0.8646, Validation Accuracy: 0.6333\n"
          ]
        },
        {
          "name": "stderr",
          "output_type": "stream",
          "text": [
            "Epoch 44/50 (Train): 100%|██████████| 4/4 [00:09<00:00,  2.26s/it]\n"
          ]
        },
        {
          "name": "stdout",
          "output_type": "stream",
          "text": [
            "Epoch 44/50, Loss: 1.2247, Train Accuracy: 0.8708, Validation Accuracy: 0.6333\n"
          ]
        },
        {
          "name": "stderr",
          "output_type": "stream",
          "text": [
            "Epoch 45/50 (Train): 100%|██████████| 4/4 [00:08<00:00,  2.18s/it]\n"
          ]
        },
        {
          "name": "stdout",
          "output_type": "stream",
          "text": [
            "Epoch 45/50, Loss: 1.2086, Train Accuracy: 0.8750, Validation Accuracy: 0.6333\n"
          ]
        },
        {
          "name": "stderr",
          "output_type": "stream",
          "text": [
            "Epoch 46/50 (Train): 100%|██████████| 4/4 [00:08<00:00,  2.21s/it]\n"
          ]
        },
        {
          "name": "stdout",
          "output_type": "stream",
          "text": [
            "Epoch 46/50, Loss: 1.1930, Train Accuracy: 0.8771, Validation Accuracy: 0.6333\n"
          ]
        },
        {
          "name": "stderr",
          "output_type": "stream",
          "text": [
            "Epoch 47/50 (Train): 100%|██████████| 4/4 [00:08<00:00,  2.18s/it]\n"
          ]
        },
        {
          "name": "stdout",
          "output_type": "stream",
          "text": [
            "Epoch 47/50, Loss: 1.1687, Train Accuracy: 0.8833, Validation Accuracy: 0.6667\n"
          ]
        },
        {
          "name": "stderr",
          "output_type": "stream",
          "text": [
            "Epoch 48/50 (Train): 100%|██████████| 4/4 [00:08<00:00,  2.22s/it]\n"
          ]
        },
        {
          "name": "stdout",
          "output_type": "stream",
          "text": [
            "Epoch 48/50, Loss: 1.1514, Train Accuracy: 0.8854, Validation Accuracy: 0.6667\n"
          ]
        },
        {
          "name": "stderr",
          "output_type": "stream",
          "text": [
            "Epoch 49/50 (Train): 100%|██████████| 4/4 [00:08<00:00,  2.23s/it]\n"
          ]
        },
        {
          "name": "stdout",
          "output_type": "stream",
          "text": [
            "Epoch 49/50, Loss: 1.1486, Train Accuracy: 0.8875, Validation Accuracy: 0.6667\n"
          ]
        },
        {
          "name": "stderr",
          "output_type": "stream",
          "text": [
            "Epoch 50/50 (Train): 100%|██████████| 4/4 [00:08<00:00,  2.19s/it]\n"
          ]
        },
        {
          "name": "stdout",
          "output_type": "stream",
          "text": [
            "Epoch 50/50, Loss: 1.1256, Train Accuracy: 0.8896, Validation Accuracy: 0.6500\n"
          ]
        }
      ],
      "source": [
        "# Call the training function with the training and validation dataloaders\n",
        "train_model(model, train_loader, valid_loader, criterion, optimizer, num_epochs=50)"
      ]
    },
    {
      "cell_type": "code",
      "execution_count": 17,
      "metadata": {},
      "outputs": [
        {
          "name": "stdout",
          "output_type": "stream",
          "text": [
            "Test Accuracy: 0.6667\n",
            "Confusion Matrix:\n",
            " [[2 0 0 0 0 1 0 0 0 0 0 0 0 0 0 0 0 0 0 0]\n",
            " [0 3 0 0 0 0 0 0 0 0 0 0 0 0 0 0 0 0 0 0]\n",
            " [0 0 3 0 0 0 0 0 0 0 0 0 0 0 0 0 0 0 0 0]\n",
            " [0 0 0 2 0 0 0 0 0 0 1 0 0 0 0 0 0 0 0 0]\n",
            " [0 0 0 0 2 0 0 0 0 0 0 0 0 0 0 0 0 0 1 0]\n",
            " [0 0 0 0 0 3 0 0 0 0 0 0 0 0 0 0 0 0 0 0]\n",
            " [0 1 0 0 0 0 2 0 0 0 0 0 0 0 0 0 0 0 0 0]\n",
            " [0 0 0 0 0 0 0 3 0 0 0 0 0 0 0 0 0 0 0 0]\n",
            " [0 0 0 0 0 0 0 0 2 0 0 0 0 1 0 0 0 0 0 0]\n",
            " [0 0 0 0 0 0 0 0 0 2 0 0 0 0 0 0 0 0 0 1]\n",
            " [0 0 0 0 0 0 0 0 0 1 1 0 0 0 0 0 0 1 0 0]\n",
            " [0 0 0 0 0 0 0 0 0 0 0 2 0 0 0 0 0 0 1 0]\n",
            " [0 0 0 0 0 1 0 0 0 0 0 1 1 0 0 0 0 0 0 0]\n",
            " [0 0 0 0 0 0 0 0 0 0 0 0 0 2 0 0 0 1 0 0]\n",
            " [0 0 0 0 0 0 0 0 0 0 0 0 0 0 3 0 0 0 0 0]\n",
            " [0 0 0 0 0 0 0 0 0 0 0 0 0 0 0 1 2 0 0 0]\n",
            " [0 0 1 0 0 0 0 0 0 1 0 0 0 0 0 0 1 0 0 0]\n",
            " [0 0 0 0 0 0 0 0 0 1 0 0 0 0 0 0 0 2 0 0]\n",
            " [0 0 0 0 0 0 0 0 0 1 0 0 0 0 0 0 0 0 2 0]\n",
            " [0 1 0 0 0 0 0 0 0 0 0 0 0 0 1 0 0 0 0 1]]\n"
          ]
        },
        {
          "data": {
            "image/png": "[encoded data removed]",
            "text/plain": [
              "<Figure size 1000x800 with 2 Axes>"
            ]
          },
          "metadata": {},
          "output_type": "display_data"
        }
      ],
      "source": [
        "from sklearn.metrics import confusion_matrix, accuracy_score\n",
        "import numpy as np\n",
        "import seaborn as sns\n",
        "import matplotlib.pyplot as plt\n",
        "\n",
        "def evaluate_model(model, test_loader):\n",
        "    # Load the best model weights if saved\n",
        "    model.load_state_dict(torch.load(\"best_resnet18.pth\"))\n",
        "    model.eval()\n",
        "\n",
        "    all_preds = []\n",
        "    all_labels = []\n",
        "\n",
        "    # No gradient computation during evaluation\n",
        "    with torch.no_grad():\n",
        "        for images, labels in test_loader:\n",
        "            images, labels = images.to(device), labels.to(device)\n",
        "            outputs = model(images)\n",
        "\n",
        "            # Get the predictions\n",
        "            _, predicted = torch.max(outputs, 1)\n",
        "            all_preds.extend(predicted.cpu().numpy())\n",
        "            all_labels.extend(labels.cpu().numpy())\n",
        "\n",
        "    # Convert to numpy arrays\n",
        "    all_preds = np.array(all_preds)\n",
        "    all_labels = np.array(all_labels)\n",
        "\n",
        "    # Compute accuracy\n",
        "    accuracy = accuracy_score(all_labels, all_preds)\n",
        "    print(f\"Test Accuracy: {accuracy:.4f}\")\n",
        "\n",
        "    # Compute confusion matrix\n",
        "    cm = confusion_matrix(all_labels, all_preds)\n",
        "    print(\"Confusion Matrix:\\n\", cm)\n",
        "\n",
        "    # Plot confusion matrix\n",
        "    plt.figure(figsize=(10, 8))\n",
        "    sns.heatmap(cm, annot=True, fmt=\"d\", cmap=\"Blues\", xticklabels=range(num_labels), yticklabels=range(num_labels))\n",
        "    plt.xlabel(\"Predicted Label\")\n",
        "    plt.ylabel(\"True Label\")\n",
        "    plt.title(\"Confusion Matrix\")\n",
        "    plt.show()\n",
        "\n",
        "# Call the function with your test dataloader\n",
        "evaluate_model(model, test_loader)\n"
      ]
    },
    {
      "cell_type": "code",
      "execution_count": 51,
      "metadata": {},
      "outputs": [
        {
          "name": "stdout",
          "output_type": "stream",
          "text": [
            "True: tensor(4)  - predicted: tensor(9) ['-0.44', '-0.53', '0.84', '-0.66', '0.72', '0.77', '0.25', '-0.11', '-2.11', '2.24', '-0.86', '-0.52', '-0.18', '-0.24', '-1.03', '1.39', '0.08', '-0.80', '-0.63', '-0.94']\n",
            "True: tensor(18)  - predicted: tensor(18) ['-2.32', '-1.56', '1.01', '1.58', '0.35', '-0.76', '-2.23', '0.30', '-0.18', '-0.23', '0.36', '1.02', '-0.43', '1.23', '-0.94', '1.10', '0.28', '0.02', '1.66', '-0.36']\n",
            "True: tensor(17)  - predicted: tensor(13) ['-1.55', '-2.60', '-0.68', '1.82', '0.93', '-0.68', '-2.09', '1.36', '0.36', '-1.75', '1.74', '0.71', '0.11', '2.61', '-2.05', '0.89', '0.53', '0.39', '1.54', '-1.18']\n",
            "True: tensor(7)  - predicted: tensor(18) ['-0.65', '-0.92', '0.70', '0.80', '-0.09', '0.40', '-0.79', '0.81', '-1.17', '-0.25', '-0.12', '1.41', '-0.14', '-0.48', '-1.54', '0.45', '0.70', '-0.95', '1.73', '-0.14']\n",
            "True: tensor(11)  - predicted: tensor(11) ['-1.59', '-1.00', '-0.59', '0.62', '-0.16', '-0.85', '-0.72', '0.98', '-0.04', '0.29', '0.04', '1.40', '0.65', '-0.65', '-1.35', '0.52', '0.10', '-0.85', '0.83', '-0.08']\n",
            "True: tensor(13)  - predicted: tensor(13) ['0.31', '-2.38', '-0.09', '1.71', '1.00', '-0.67', '-0.98', '0.22', '-0.58', '-1.72', '1.72', '0.08', '-0.52', '3.61', '-2.35', '0.41', '0.83', '0.18', '0.73', '-1.68']\n",
            "True: tensor(16)  - predicted: tensor(16) ['-0.59', '-1.21', '1.65', '-1.41', '1.16', '1.44', '-0.73', '1.39', '-1.59', '-0.38', '-0.31', '0.02', '0.19', '-0.43', '-1.78', '2.73', '3.17', '0.18', '0.66', '-0.84']\n",
            "True: tensor(0)  - predicted: tensor(0) ['1.58', '0.90', '-1.47', '-0.95', '-1.24', '1.24', '0.00', '0.26', '0.29', '-0.72', '-1.00', '0.89', '-0.29', '-1.37', '0.79', '0.42', '1.03', '-0.43', '0.06', '1.05']\n",
            "True: tensor(10)  - predicted: tensor(10) ['0.82', '-0.19', '-0.71', '0.22', '-0.77', '-0.76', '-1.35', '0.01', '-0.72', '0.07', '1.54', '0.06', '0.09', '0.36', '0.47', '-0.69', '-0.55', '0.09', '0.48', '-0.18']\n",
            "True: tensor(3)  - predicted: tensor(0) ['1.39', '0.52', '-0.87', '0.19', '-1.87', '0.34', '0.11', '-0.72', '-0.87', '1.15', '0.66', '0.75', '0.88', '-0.64', '-1.12', '0.46', '-0.70', '-0.78', '-1.48', '0.36']\n",
            "True: tensor(4)  - predicted: tensor(4) ['-1.36', '-1.52', '1.57', '0.21', '2.69', '-0.79', '-0.33', '0.58', '-1.11', '-0.41', '-0.02', '1.46', '-0.37', '-0.25', '-1.65', '0.96', '0.77', '-0.40', '0.50', '0.47']\n",
            "True: tensor(5)  - predicted: tensor(5) ['0.59', '-1.45', '0.77', '-0.34', '0.67', '1.63', '-1.13', '0.43', '-1.30', '-0.52', '-1.14', '0.40', '0.40', '-0.78', '-0.76', '1.05', '1.48', '-0.56', '-0.59', '-0.28']\n",
            "True: tensor(2)  - predicted: tensor(4) ['-0.40', '-1.12', '1.02', '-0.79', '1.64', '-0.12', '-1.21', '0.46', '-1.66', '-0.25', '0.08', '0.96', '0.21', '0.46', '-0.40', '0.39', '1.12', '0.07', '0.10', '-1.17']\n",
            "True: tensor(1)  - predicted: tensor(6) ['-0.77', '2.67', '0.47', '-1.39', '-0.28', '-1.79', '3.04', '0.96', '-2.81', '1.83', '-1.48', '-1.34', '-0.06', '-1.83', '0.50', '0.37', '-0.95', '-1.31', '-1.15', '2.11']\n",
            "True: tensor(0)  - predicted: tensor(0) ['2.77', '0.07', '-0.25', '-0.77', '-1.72', '1.44', '0.18', '-0.53', '-0.14', '0.10', '-0.10', '0.39', '0.84', '-1.01', '-1.02', '0.26', '-0.62', '-0.09', '-0.10', '0.96']\n",
            "True: tensor(8)  - predicted: tensor(8) ['-1.34', '-0.86', '-0.96', '0.90', '-0.93', '-2.71', '-0.98', '0.04', '2.52', '0.28', '1.61', '-0.48', '-0.93', '1.70', '0.23', '0.10', '-0.48', '2.32', '0.41', '-0.29']\n",
            "True: tensor(15)  - predicted: tensor(15) ['-0.77', '-1.05', '-0.30', '0.20', '0.30', '-0.35', '0.01', '0.61', '-0.22', '0.56', '-0.17', '0.22', '-0.18', '-0.08', '-1.35', '1.00', '0.99', '0.44', '0.12', '0.07']\n",
            "True: tensor(10)  - predicted: tensor(10) ['1.27', '-0.20', '0.20', '1.36', '-0.95', '-0.02', '-1.29', '0.06', '-0.48', '-0.16', '2.00', '-0.73', '-0.31', '-0.04', '-0.45', '-0.30', '-0.47', '0.90', '0.25', '-0.57']\n",
            "True: tensor(17)  - predicted: tensor(17) ['-0.75', '-2.01', '-0.64', '1.58', '0.52', '-0.85', '-1.60', '-0.43', '0.01', '0.57', '1.79', '-1.03', '-0.66', '0.69', '-1.62', '0.63', '0.15', '3.07', '0.63', '-0.77']\n",
            "True: tensor(9)  - predicted: tensor(9) ['-0.93', '0.92', '-0.42', '0.01', '-2.10', '-0.33', '0.66', '-1.20', '-0.15', '2.69', '0.23', '-0.71', '0.79', '-0.61', '0.29', '-0.37', '-1.15', '0.58', '-1.16', '0.93']\n",
            "True: tensor(19)  - predicted: tensor(6) ['-0.30', '1.53', '-0.20', '-0.94', '-0.11', '-0.19', '2.42', '-1.84', '-0.91', '0.39', '-0.01', '-0.47', '0.65', '-1.20', '0.14', '0.15', '-0.59', '-0.33', '0.14', '1.68']\n",
            "True: tensor(5)  - predicted: tensor(14) ['0.41', '-0.54', '-0.00', '-1.82', '-0.57', '0.89', '-0.00', '1.06', '-0.90', '1.07', '-1.79', '0.92', '0.85', '-1.04', '1.47', '-0.17', '-0.13', '-0.44', '-0.23', '0.26']\n",
            "True: tensor(17)  - predicted: tensor(17) ['-0.97', '-1.60', '-0.97', '1.49', '-0.71', '-0.01', '-1.37', '-0.40', '1.58', '-0.16', '2.55', '-0.99', '-1.18', '1.50', '-1.13', '0.60', '-0.60', '2.86', '1.11', '-1.55']\n",
            "True: tensor(0)  - predicted: tensor(0) ['4.23', '0.80', '0.29', '-1.44', '-0.23', '0.91', '-0.52', '-0.02', '-1.38', '-0.50', '-1.68', '0.43', '0.34', '-1.53', '0.74', '-1.12', '1.02', '-0.70', '-0.88', '0.67']\n",
            "True: tensor(8)  - predicted: tensor(13) ['-0.43', '-1.07', '-0.63', '1.00', '-0.50', '-0.78', '-2.56', '1.28', '0.81', '-0.23', '0.26', '-0.10', '-0.85', '2.12', '-0.11', '0.18', '-0.07', '1.32', '-0.16', '-1.89']\n",
            "True: tensor(19)  - predicted: tensor(19) ['-0.58', '1.43', '0.50', '-1.16', '0.12', '-0.31', '1.01', '0.33', '-1.17', '1.33', '-0.32', '0.06', '-0.39', '-1.26', '0.91', '-0.63', '-0.71', '-0.21', '-0.70', '1.92']\n",
            "True: tensor(13)  - predicted: tensor(13) ['-0.97', '-2.22', '-0.56', '1.27', '0.64', '-0.71', '-0.97', '-0.77', '0.71', '-0.96', '1.65', '0.07', '-0.27', '2.01', '-0.67', '-0.19', '0.18', '0.78', '1.64', '-1.02']\n",
            "True: tensor(4)  - predicted: tensor(4) ['-0.88', '-1.74', '2.29', '0.49', '2.31', '-0.22', '-0.05', '0.05', '-1.84', '-0.10', '0.17', '0.60', '-0.27', '-0.55', '-1.39', '0.28', '1.55', '-1.09', '0.73', '0.07']\n",
            "True: tensor(14)  - predicted: tensor(14) ['0.02', '0.50', '-1.88', '-0.42', '-1.06', '0.32', '-0.34', '1.11', '-0.27', '0.57', '-0.14', '-0.44', '0.30', '0.04', '3.31', '-0.76', '-1.42', '1.33', '-0.77', '0.29']\n",
            "True: tensor(12)  - predicted: tensor(12) ['-0.34', '-0.60', '-0.09', '0.19', '-1.13', '0.58', '-1.97', '1.09', '-1.03', '-0.32', '-0.03', '1.08', '2.04', '-0.44', '-1.09', '0.25', '0.09', '-0.55', '0.46', '-0.24']\n",
            "True: tensor(8)  - predicted: tensor(8) ['0.42', '-1.04', '-0.78', '0.63', '-0.22', '-0.96', '-1.17', '-0.58', '2.59', '-0.25', '1.71', '-0.74', '-0.36', '1.02', '-1.03', '0.91', '0.77', '0.94', '0.04', '-1.29']\n",
            "True: tensor(18)  - predicted: tensor(18) ['-0.46', '-1.14', '-0.20', '0.52', '-0.03', '-1.03', '-0.65', '0.85', '-0.62', '-0.30', '0.70', '1.06', '0.86', '0.61', '0.01', '-0.23', '-0.17', '-0.20', '2.64', '-0.08']\n",
            "True: tensor(2)  - predicted: tensor(2) ['-0.12', '-1.09', '2.18', '-0.28', '0.74', '0.61', '-0.98', '0.63', '-1.42', '-1.28', '-0.97', '1.70', '0.41', '-0.83', '-0.91', '1.08', '1.84', '-0.71', '0.05', '-0.29']\n",
            "True: tensor(3)  - predicted: tensor(3) ['-1.26', '-1.11', '-0.39', '2.49', '0.48', '-1.22', '-0.84', '-0.83', '0.57', '-0.07', '0.92', '0.94', '-0.47', '1.22', '-1.42', '0.45', '-0.63', '-0.19', '1.25', '0.37']\n",
            "True: tensor(6)  - predicted: tensor(6) ['0.08', '-0.46', '0.24', '-0.87', '-0.11', '0.28', '1.10', '-0.12', '-0.93', '0.51', '-0.62', '-0.18', '-0.68', '-1.27', '0.49', '0.55', '0.28', '-0.34', '-0.10', '0.55']\n",
            "True: tensor(2)  - predicted: tensor(5) ['0.50', '-2.43', '1.79', '-0.96', '1.95', '2.31', '-0.70', '-0.05', '-1.74', '-0.99', '-0.80', '0.62', '0.23', '-1.06', '-1.55', '1.57', '2.07', '-0.23', '0.71', '-0.80']\n",
            "True: tensor(15)  - predicted: tensor(2) ['-1.19', '0.24', '0.72', '0.24', '0.39', '-0.35', '-0.18', '0.39', '-1.91', '0.71', '-0.67', '0.23', '0.03', '-0.41', '-1.07', '0.30', '0.33', '-0.12', '0.26', '0.47']\n",
            "True: tensor(14)  - predicted: tensor(14) ['0.27', '1.20', '-0.66', '-0.60', '-0.99', '-0.35', '2.06', '-1.78', '-0.55', '0.50', '-0.31', '-0.80', '-0.25', '-0.97', '2.36', '-1.17', '-1.34', '-1.22', '0.57', '1.78']\n",
            "True: tensor(12)  - predicted: tensor(12) ['1.26', '-0.79', '0.32', '-0.66', '-1.34', '2.25', '-0.82', '-0.52', '-1.57', '1.59', '-0.47', '0.97', '2.28', '-1.14', '-1.46', '-0.11', '0.41', '-0.45', '-0.01', '0.10']\n",
            "True: tensor(19)  - predicted: tensor(12) ['-0.35', '0.20', '-0.86', '-0.26', '-0.52', '0.74', '0.53', '0.23', '-1.46', '-0.15', '-0.79', '0.40', '0.98', '-1.21', '0.98', '0.44', '-0.22', '-0.72', '0.02', '0.91']\n",
            "True: tensor(3)  - predicted: tensor(3) ['-1.29', '-1.40', '0.10', '1.99', '-0.49', '-0.82', '-2.60', '-0.78', '1.41', '-0.57', '1.85', '-0.04', '-1.32', '1.83', '-0.26', '-0.06', '0.25', '0.75', '0.81', '-1.23']\n",
            "True: tensor(18)  - predicted: tensor(18) ['-1.17', '-2.11', '-0.05', '0.87', '0.86', '0.12', '-0.51', '0.04', '-0.48', '-0.25', '0.31', '0.90', '0.12', '0.47', '-0.87', '0.14', '0.14', '-0.47', '2.06', '-1.22']\n",
            "True: tensor(7)  - predicted: tensor(7) ['-1.62', '-0.42', '0.55', '0.74', '-0.03', '-0.17', '-1.49', '1.95', '-1.02', '0.05', '-0.66', '0.54', '-0.62', '-0.61', '-1.23', '1.64', '0.80', '-0.03', '0.82', '-0.40']\n",
            "True: tensor(1)  - predicted: tensor(1) ['-0.11', '2.61', '-0.17', '-1.21', '-1.13', '-1.14', '1.79', '-0.57', '-0.97', '0.43', '-0.57', '0.26', '0.71', '-1.17', '0.79', '-0.22', '-0.52', '-0.80', '-0.54', '2.44']\n",
            "True: tensor(5)  - predicted: tensor(5) ['1.70', '-2.13', '-0.14', '-0.59', '-0.31', '2.00', '-1.77', '-0.06', '-1.20', '0.17', '0.02', '-0.52', '1.56', '-0.36', '-0.09', '-0.04', '0.71', '-0.11', '0.74', '-1.06']\n",
            "True: tensor(9)  - predicted: tensor(9) ['0.49', '0.34', '0.69', '-0.19', '-0.47', '-0.66', '0.17', '-0.17', '-0.68', '1.23', '-0.40', '-0.36', '0.55', '-0.37', '-0.18', '0.13', '0.27', '-0.89', '-0.66', '0.07']\n",
            "True: tensor(1)  - predicted: tensor(1) ['-1.35', '3.02', '0.70', '-0.52', '-1.46', '-0.69', '1.79', '0.01', '-0.93', '0.87', '-1.26', '-0.05', '-0.41', '-1.16', '0.23', '-0.69', '0.01', '-0.64', '-0.57', '1.91']\n",
            "True: tensor(7)  - predicted: tensor(16) ['-1.91', '-1.55', '0.90', '0.67', '1.12', '-0.76', '-1.15', '1.91', '-0.67', '-0.40', '0.66', '0.15', '0.30', '0.55', '-2.06', '1.61', '2.34', '-0.18', '1.49', '-0.99']\n",
            "True: tensor(9)  - predicted: tensor(10) ['0.23', '-0.29', '-1.61', '0.49', '0.15', '-1.54', '0.12', '-0.87', '0.91', '0.34', '1.31', '-0.17', '0.01', '1.22', '1.11', '0.32', '-1.42', '-0.64', '0.73', '0.71']\n",
            "True: tensor(6)  - predicted: tensor(6) ['-0.53', '0.11', '0.65', '-0.66', '-0.34', '-0.34', '1.79', '-0.05', '-2.12', '1.45', '-0.85', '-1.07', '-0.45', '-1.16', '0.50', '0.20', '-0.65', '-0.94', '-0.51', '0.26']\n",
            "True: tensor(15)  - predicted: tensor(2) ['0.23', '-0.22', '1.59', '-0.63', '0.11', '0.37', '0.05', '0.70', '-1.72', '0.82', '-0.09', '-0.08', '-0.20', '-0.78', '-1.35', '1.30', '-0.20', '0.15', '-0.91', '-1.42']\n",
            "True: tensor(11)  - predicted: tensor(7) ['-0.66', '-1.54', '0.79', '0.49', '1.23', '-1.05', '-0.24', '1.47', '-0.25', '-0.87', '-0.11', '1.03', '-0.35', '1.14', '-1.44', '0.54', '0.68', '-0.13', '0.34', '-0.82']\n",
            "True: tensor(13)  - predicted: tensor(8) ['-0.30', '-1.09', '-1.11', '1.69', '-1.16', '-1.00', '-2.32', '-0.86', '2.69', '-0.99', '1.90', '-0.27', '-0.34', '1.58', '-0.24', '-0.70', '-0.42', '0.99', '0.71', '-0.81']\n",
            "True: tensor(11)  - predicted: tensor(17) ['-1.50', '-1.95', '-0.67', '1.42', '0.96', '-1.20', '-1.55', '0.22', '0.34', '0.10', '0.13', '0.20', '-0.80', '1.14', '-0.35', '0.13', '0.51', '1.97', '0.65', '-1.02']\n",
            "True: tensor(16)  - predicted: tensor(17) ['-0.15', '-0.32', '-0.51', '0.18', '-0.34', '-0.10', '-1.18', '0.17', '-1.02', '0.46', '-0.14', '-0.45', '0.86', '0.32', '0.22', '0.09', '0.46', '1.08', '-0.65', '0.04']\n",
            "True: tensor(16)  - predicted: tensor(16) ['-0.27', '-1.76', '2.09', '-0.30', '1.67', '1.17', '-0.94', '0.58', '-1.96', '-0.86', '-0.66', '0.67', '0.73', '-0.81', '-1.97', '1.22', '2.25', '-1.04', '0.79', '-1.54']\n",
            "True: tensor(14)  - predicted: tensor(14) ['1.31', '0.80', '-0.77', '0.26', '-1.62', '-0.31', '0.73', '-1.42', '-0.05', '-0.29', '-0.34', '-0.57', '-0.16', '-1.03', '3.81', '-0.83', '-1.37', '-0.62', '0.26', '1.27']\n",
            "True: tensor(12)  - predicted: tensor(7) ['0.12', '-0.70', '-0.78', '0.35', '-1.58', '-0.07', '-0.58', '1.28', '-1.13', '-0.71', '-0.25', '1.26', '1.09', '-0.57', '0.17', '-1.12', '0.14', '-0.64', '0.33', '1.13']\n",
            "True: tensor(10)  - predicted: tensor(10) ['0.08', '-0.77', '0.04', '-0.16', '0.42', '-0.33', '-0.30', '0.01', '-0.37', '0.60', '0.85', '-0.73', '0.20', '0.58', '-0.81', '-0.19', '0.01', '-0.18', '0.14', '0.06']\n",
            "True: tensor(6)  - predicted: tensor(6) ['1.55', '0.09', '0.07', '-0.91', '0.20', '-0.06', '1.80', '-0.92', '-1.44', '0.40', '-0.29', '-0.31', '0.45', '0.13', '-0.44', '-1.05', '-0.72', '-0.36', '0.07', '0.80']\n"
          ]
        }
      ],
      "source": [
        "\n",
        "for images, labels in valid_loader:\n",
        "            images, labels = images.to(device), labels.to(device)\n",
        "            outputs = model(images)\n",
        "\n",
        "\n",
        "\n",
        "for i in range(len(torch.max(outputs, 1)[1])):\n",
        "    formatted_tensor = [f\"{val:.2f}\" for val in outputs[i].tolist()]\n",
        "    print('True:',labels[i], ' - predicted:', torch.max(outputs, 1)[1][i], formatted_tensor)"
      ]
    },
    {
      "cell_type": "code",
      "execution_count": 48,
      "metadata": {},
      "outputs": [
        {
          "name": "stdout",
          "output_type": "stream",
          "text": [
            "True: tensor(4)  - predicted: tensor(9) ['-0.44', '-0.53', '0.84', '-0.66', '0.72', '0.77', '0.25', '-0.11', '-2.11', '2.24', '-0.86', '-0.52', '-0.18', '-0.24', '-1.03', '1.39', '0.08', '-0.80', '-0.63', '-0.94']\n",
            "True: tensor(18)  - predicted: tensor(18) ['-2.32', '-1.56', '1.01', '1.58', '0.35', '-0.76', '-2.23', '0.30', '-0.18', '-0.23', '0.36', '1.02', '-0.43', '1.23', '-0.94', '1.10', '0.28', '0.02', '1.66', '-0.36']\n",
            "True: tensor(17)  - predicted: tensor(13) ['-1.55', '-2.60', '-0.68', '1.82', '0.93', '-0.68', '-2.09', '1.36', '0.36', '-1.75', '1.74', '0.71', '0.11', '2.61', '-2.05', '0.89', '0.53', '0.39', '1.54', '-1.18']\n",
            "True: tensor(7)  - predicted: tensor(18) ['-0.65', '-0.92', '0.70', '0.80', '-0.09', '0.40', '-0.79', '0.81', '-1.17', '-0.25', '-0.12', '1.41', '-0.14', '-0.48', '-1.54', '0.45', '0.70', '-0.95', '1.73', '-0.14']\n",
            "True: tensor(11)  - predicted: tensor(11) ['-1.59', '-1.00', '-0.59', '0.62', '-0.16', '-0.85', '-0.72', '0.98', '-0.04', '0.29', '0.04', '1.40', '0.65', '-0.65', '-1.35', '0.52', '0.10', '-0.85', '0.83', '-0.08']\n",
            "True: tensor(13)  - predicted: tensor(13) ['0.31', '-2.38', '-0.09', '1.71', '1.00', '-0.67', '-0.98', '0.22', '-0.58', '-1.72', '1.72', '0.08', '-0.52', '3.61', '-2.35', '0.41', '0.83', '0.18', '0.73', '-1.68']\n",
            "True: tensor(16)  - predicted: tensor(16) ['-0.59', '-1.21', '1.65', '-1.41', '1.16', '1.44', '-0.73', '1.39', '-1.59', '-0.38', '-0.31', '0.02', '0.19', '-0.43', '-1.78', '2.73', '3.17', '0.18', '0.66', '-0.84']\n",
            "True: tensor(0)  - predicted: tensor(0) ['1.58', '0.90', '-1.47', '-0.95', '-1.24', '1.24', '0.00', '0.26', '0.29', '-0.72', '-1.00', '0.89', '-0.29', '-1.37', '0.79', '0.42', '1.03', '-0.43', '0.06', '1.05']\n",
            "True: tensor(10)  - predicted: tensor(10) ['0.82', '-0.19', '-0.71', '0.22', '-0.77', '-0.76', '-1.35', '0.01', '-0.72', '0.07', '1.54', '0.06', '0.09', '0.36', '0.47', '-0.69', '-0.55', '0.09', '0.48', '-0.18']\n",
            "True: tensor(3)  - predicted: tensor(0) ['1.39', '0.52', '-0.87', '0.19', '-1.87', '0.34', '0.11', '-0.72', '-0.87', '1.15', '0.66', '0.75', '0.88', '-0.64', '-1.12', '0.46', '-0.70', '-0.78', '-1.48', '0.36']\n",
            "True: tensor(4)  - predicted: tensor(4) ['-1.36', '-1.52', '1.57', '0.21', '2.69', '-0.79', '-0.33', '0.58', '-1.11', '-0.41', '-0.02', '1.46', '-0.37', '-0.25', '-1.65', '0.96', '0.77', '-0.40', '0.50', '0.47']\n",
            "True: tensor(5)  - predicted: tensor(5) ['0.59', '-1.45', '0.77', '-0.34', '0.67', '1.63', '-1.13', '0.43', '-1.30', '-0.52', '-1.14', '0.40', '0.40', '-0.78', '-0.76', '1.05', '1.48', '-0.56', '-0.59', '-0.28']\n",
            "True: tensor(2)  - predicted: tensor(4) ['-0.40', '-1.12', '1.02', '-0.79', '1.64', '-0.12', '-1.21', '0.46', '-1.66', '-0.25', '0.08', '0.96', '0.21', '0.46', '-0.40', '0.39', '1.12', '0.07', '0.10', '-1.17']\n",
            "True: tensor(1)  - predicted: tensor(6) ['-0.77', '2.67', '0.47', '-1.39', '-0.28', '-1.79', '3.04', '0.96', '-2.81', '1.83', '-1.48', '-1.34', '-0.06', '-1.83', '0.50', '0.37', '-0.95', '-1.31', '-1.15', '2.11']\n",
            "True: tensor(0)  - predicted: tensor(0) ['2.77', '0.07', '-0.25', '-0.77', '-1.72', '1.44', '0.18', '-0.53', '-0.14', '0.10', '-0.10', '0.39', '0.84', '-1.01', '-1.02', '0.26', '-0.62', '-0.09', '-0.10', '0.96']\n",
            "True: tensor(8)  - predicted: tensor(8) ['-1.34', '-0.86', '-0.96', '0.90', '-0.93', '-2.71', '-0.98', '0.04', '2.52', '0.28', '1.61', '-0.48', '-0.93', '1.70', '0.23', '0.10', '-0.48', '2.32', '0.41', '-0.29']\n",
            "True: tensor(15)  - predicted: tensor(15) ['-0.77', '-1.05', '-0.30', '0.20', '0.30', '-0.35', '0.01', '0.61', '-0.22', '0.56', '-0.17', '0.22', '-0.18', '-0.08', '-1.35', '1.00', '0.99', '0.44', '0.12', '0.07']\n",
            "True: tensor(10)  - predicted: tensor(10) ['1.27', '-0.20', '0.20', '1.36', '-0.95', '-0.02', '-1.29', '0.06', '-0.48', '-0.16', '2.00', '-0.73', '-0.31', '-0.04', '-0.45', '-0.30', '-0.47', '0.90', '0.25', '-0.57']\n",
            "True: tensor(17)  - predicted: tensor(17) ['-0.75', '-2.01', '-0.64', '1.58', '0.52', '-0.85', '-1.60', '-0.43', '0.01', '0.57', '1.79', '-1.03', '-0.66', '0.69', '-1.62', '0.63', '0.15', '3.07', '0.63', '-0.77']\n",
            "True: tensor(9)  - predicted: tensor(9) ['-0.93', '0.92', '-0.42', '0.01', '-2.10', '-0.33', '0.66', '-1.20', '-0.15', '2.69', '0.23', '-0.71', '0.79', '-0.61', '0.29', '-0.37', '-1.15', '0.58', '-1.16', '0.93']\n",
            "True: tensor(19)  - predicted: tensor(6) ['-0.30', '1.53', '-0.20', '-0.94', '-0.11', '-0.19', '2.42', '-1.84', '-0.91', '0.39', '-0.01', '-0.47', '0.65', '-1.20', '0.14', '0.15', '-0.59', '-0.33', '0.14', '1.68']\n",
            "True: tensor(5)  - predicted: tensor(14) ['0.41', '-0.54', '-0.00', '-1.82', '-0.57', '0.89', '-0.00', '1.06', '-0.90', '1.07', '-1.79', '0.92', '0.85', '-1.04', '1.47', '-0.17', '-0.13', '-0.44', '-0.23', '0.26']\n",
            "True: tensor(17)  - predicted: tensor(17) ['-0.97', '-1.60', '-0.97', '1.49', '-0.71', '-0.01', '-1.37', '-0.40', '1.58', '-0.16', '2.55', '-0.99', '-1.18', '1.50', '-1.13', '0.60', '-0.60', '2.86', '1.11', '-1.55']\n",
            "True: tensor(0)  - predicted: tensor(0) ['4.23', '0.80', '0.29', '-1.44', '-0.23', '0.91', '-0.52', '-0.02', '-1.38', '-0.50', '-1.68', '0.43', '0.34', '-1.53', '0.74', '-1.12', '1.02', '-0.70', '-0.88', '0.67']\n",
            "True: tensor(8)  - predicted: tensor(13) ['-0.43', '-1.07', '-0.63', '1.00', '-0.50', '-0.78', '-2.56', '1.28', '0.81', '-0.23', '0.26', '-0.10', '-0.85', '2.12', '-0.11', '0.18', '-0.07', '1.32', '-0.16', '-1.89']\n",
            "True: tensor(19)  - predicted: tensor(19) ['-0.58', '1.43', '0.50', '-1.16', '0.12', '-0.31', '1.01', '0.33', '-1.17', '1.33', '-0.32', '0.06', '-0.39', '-1.26', '0.91', '-0.63', '-0.71', '-0.21', '-0.70', '1.92']\n",
            "True: tensor(13)  - predicted: tensor(13) ['-0.97', '-2.22', '-0.56', '1.27', '0.64', '-0.71', '-0.97', '-0.77', '0.71', '-0.96', '1.65', '0.07', '-0.27', '2.01', '-0.67', '-0.19', '0.18', '0.78', '1.64', '-1.02']\n",
            "True: tensor(4)  - predicted: tensor(4) ['-0.88', '-1.74', '2.29', '0.49', '2.31', '-0.22', '-0.05', '0.05', '-1.84', '-0.10', '0.17', '0.60', '-0.27', '-0.55', '-1.39', '0.28', '1.55', '-1.09', '0.73', '0.07']\n",
            "True: tensor(14)  - predicted: tensor(14) ['0.02', '0.50', '-1.88', '-0.42', '-1.06', '0.32', '-0.34', '1.11', '-0.27', '0.57', '-0.14', '-0.44', '0.30', '0.04', '3.31', '-0.76', '-1.42', '1.33', '-0.77', '0.29']\n",
            "True: tensor(12)  - predicted: tensor(12) ['-0.34', '-0.60', '-0.09', '0.19', '-1.13', '0.58', '-1.97', '1.09', '-1.03', '-0.32', '-0.03', '1.08', '2.04', '-0.44', '-1.09', '0.25', '0.09', '-0.55', '0.46', '-0.24']\n",
            "True: tensor(8)  - predicted: tensor(8) ['0.42', '-1.04', '-0.78', '0.63', '-0.22', '-0.96', '-1.17', '-0.58', '2.59', '-0.25', '1.71', '-0.74', '-0.36', '1.02', '-1.03', '0.91', '0.77', '0.94', '0.04', '-1.29']\n",
            "True: tensor(18)  - predicted: tensor(18) ['-0.46', '-1.14', '-0.20', '0.52', '-0.03', '-1.03', '-0.65', '0.85', '-0.62', '-0.30', '0.70', '1.06', '0.86', '0.61', '0.01', '-0.23', '-0.17', '-0.20', '2.64', '-0.08']\n",
            "True: tensor(2)  - predicted: tensor(2) ['-0.12', '-1.09', '2.18', '-0.28', '0.74', '0.61', '-0.98', '0.63', '-1.42', '-1.28', '-0.97', '1.70', '0.41', '-0.83', '-0.91', '1.08', '1.84', '-0.71', '0.05', '-0.29']\n",
            "True: tensor(3)  - predicted: tensor(3) ['-1.26', '-1.11', '-0.39', '2.49', '0.48', '-1.22', '-0.84', '-0.83', '0.57', '-0.07', '0.92', '0.94', '-0.47', '1.22', '-1.42', '0.45', '-0.63', '-0.19', '1.25', '0.37']\n",
            "True: tensor(6)  - predicted: tensor(6) ['0.08', '-0.46', '0.24', '-0.87', '-0.11', '0.28', '1.10', '-0.12', '-0.93', '0.51', '-0.62', '-0.18', '-0.68', '-1.27', '0.49', '0.55', '0.28', '-0.34', '-0.10', '0.55']\n",
            "True: tensor(2)  - predicted: tensor(5) ['0.50', '-2.43', '1.79', '-0.96', '1.95', '2.31', '-0.70', '-0.05', '-1.74', '-0.99', '-0.80', '0.62', '0.23', '-1.06', '-1.55', '1.57', '2.07', '-0.23', '0.71', '-0.80']\n",
            "True: tensor(15)  - predicted: tensor(2) ['-1.19', '0.24', '0.72', '0.24', '0.39', '-0.35', '-0.18', '0.39', '-1.91', '0.71', '-0.67', '0.23', '0.03', '-0.41', '-1.07', '0.30', '0.33', '-0.12', '0.26', '0.47']\n",
            "True: tensor(14)  - predicted: tensor(14) ['0.27', '1.20', '-0.66', '-0.60', '-0.99', '-0.35', '2.06', '-1.78', '-0.55', '0.50', '-0.31', '-0.80', '-0.25', '-0.97', '2.36', '-1.17', '-1.34', '-1.22', '0.57', '1.78']\n",
            "True: tensor(12)  - predicted: tensor(12) ['1.26', '-0.79', '0.32', '-0.66', '-1.34', '2.25', '-0.82', '-0.52', '-1.57', '1.59', '-0.47', '0.97', '2.28', '-1.14', '-1.46', '-0.11', '0.41', '-0.45', '-0.01', '0.10']\n",
            "True: tensor(19)  - predicted: tensor(12) ['-0.35', '0.20', '-0.86', '-0.26', '-0.52', '0.74', '0.53', '0.23', '-1.46', '-0.15', '-0.79', '0.40', '0.98', '-1.21', '0.98', '0.44', '-0.22', '-0.72', '0.02', '0.91']\n",
            "True: tensor(3)  - predicted: tensor(3) ['-1.29', '-1.40', '0.10', '1.99', '-0.49', '-0.82', '-2.60', '-0.78', '1.41', '-0.57', '1.85', '-0.04', '-1.32', '1.83', '-0.26', '-0.06', '0.25', '0.75', '0.81', '-1.23']\n",
            "True: tensor(18)  - predicted: tensor(18) ['-1.17', '-2.11', '-0.05', '0.87', '0.86', '0.12', '-0.51', '0.04', '-0.48', '-0.25', '0.31', '0.90', '0.12', '0.47', '-0.87', '0.14', '0.14', '-0.47', '2.06', '-1.22']\n",
            "True: tensor(7)  - predicted: tensor(7) ['-1.62', '-0.42', '0.55', '0.74', '-0.03', '-0.17', '-1.49', '1.95', '-1.02', '0.05', '-0.66', '0.54', '-0.62', '-0.61', '-1.23', '1.64', '0.80', '-0.03', '0.82', '-0.40']\n",
            "True: tensor(1)  - predicted: tensor(1) ['-0.11', '2.61', '-0.17', '-1.21', '-1.13', '-1.14', '1.79', '-0.57', '-0.97', '0.43', '-0.57', '0.26', '0.71', '-1.17', '0.79', '-0.22', '-0.52', '-0.80', '-0.54', '2.44']\n",
            "True: tensor(5)  - predicted: tensor(5) ['1.70', '-2.13', '-0.14', '-0.59', '-0.31', '2.00', '-1.77', '-0.06', '-1.20', '0.17', '0.02', '-0.52', '1.56', '-0.36', '-0.09', '-0.04', '0.71', '-0.11', '0.74', '-1.06']\n",
            "True: tensor(9)  - predicted: tensor(9) ['0.49', '0.34', '0.69', '-0.19', '-0.47', '-0.66', '0.17', '-0.17', '-0.68', '1.23', '-0.40', '-0.36', '0.55', '-0.37', '-0.18', '0.13', '0.27', '-0.89', '-0.66', '0.07']\n",
            "True: tensor(1)  - predicted: tensor(1) ['-1.35', '3.02', '0.70', '-0.52', '-1.46', '-0.69', '1.79', '0.01', '-0.93', '0.87', '-1.26', '-0.05', '-0.41', '-1.16', '0.23', '-0.69', '0.01', '-0.64', '-0.57', '1.91']\n",
            "True: tensor(7)  - predicted: tensor(16) ['-1.91', '-1.55', '0.90', '0.67', '1.12', '-0.76', '-1.15', '1.91', '-0.67', '-0.40', '0.66', '0.15', '0.30', '0.55', '-2.06', '1.61', '2.34', '-0.18', '1.49', '-0.99']\n",
            "True: tensor(9)  - predicted: tensor(10) ['0.23', '-0.29', '-1.61', '0.49', '0.15', '-1.54', '0.12', '-0.87', '0.91', '0.34', '1.31', '-0.17', '0.01', '1.22', '1.11', '0.32', '-1.42', '-0.64', '0.73', '0.71']\n",
            "True: tensor(6)  - predicted: tensor(6) ['-0.53', '0.11', '0.65', '-0.66', '-0.34', '-0.34', '1.79', '-0.05', '-2.12', '1.45', '-0.85', '-1.07', '-0.45', '-1.16', '0.50', '0.20', '-0.65', '-0.94', '-0.51', '0.26']\n",
            "True: tensor(15)  - predicted: tensor(2) ['0.23', '-0.22', '1.59', '-0.63', '0.11', '0.37', '0.05', '0.70', '-1.72', '0.82', '-0.09', '-0.08', '-0.20', '-0.78', '-1.35', '1.30', '-0.20', '0.15', '-0.91', '-1.42']\n",
            "True: tensor(11)  - predicted: tensor(7) ['-0.66', '-1.54', '0.79', '0.49', '1.23', '-1.05', '-0.24', '1.47', '-0.25', '-0.87', '-0.11', '1.03', '-0.35', '1.14', '-1.44', '0.54', '0.68', '-0.13', '0.34', '-0.82']\n",
            "True: tensor(13)  - predicted: tensor(8) ['-0.30', '-1.09', '-1.11', '1.69', '-1.16', '-1.00', '-2.32', '-0.86', '2.69', '-0.99', '1.90', '-0.27', '-0.34', '1.58', '-0.24', '-0.70', '-0.42', '0.99', '0.71', '-0.81']\n",
            "True: tensor(11)  - predicted: tensor(17) ['-1.50', '-1.95', '-0.67', '1.42', '0.96', '-1.20', '-1.55', '0.22', '0.34', '0.10', '0.13', '0.20', '-0.80', '1.14', '-0.35', '0.13', '0.51', '1.97', '0.65', '-1.02']\n",
            "True: tensor(16)  - predicted: tensor(17) ['-0.15', '-0.32', '-0.51', '0.18', '-0.34', '-0.10', '-1.18', '0.17', '-1.02', '0.46', '-0.14', '-0.45', '0.86', '0.32', '0.22', '0.09', '0.46', '1.08', '-0.65', '0.04']\n",
            "True: tensor(16)  - predicted: tensor(16) ['-0.27', '-1.76', '2.09', '-0.30', '1.67', '1.17', '-0.94', '0.58', '-1.96', '-0.86', '-0.66', '0.67', '0.73', '-0.81', '-1.97', '1.22', '2.25', '-1.04', '0.79', '-1.54']\n",
            "True: tensor(14)  - predicted: tensor(14) ['1.31', '0.80', '-0.77', '0.26', '-1.62', '-0.31', '0.73', '-1.42', '-0.05', '-0.29', '-0.34', '-0.57', '-0.16', '-1.03', '3.81', '-0.83', '-1.37', '-0.62', '0.26', '1.27']\n",
            "True: tensor(12)  - predicted: tensor(7) ['0.12', '-0.70', '-0.78', '0.35', '-1.58', '-0.07', '-0.58', '1.28', '-1.13', '-0.71', '-0.25', '1.26', '1.09', '-0.57', '0.17', '-1.12', '0.14', '-0.64', '0.33', '1.13']\n",
            "True: tensor(10)  - predicted: tensor(10) ['0.08', '-0.77', '0.04', '-0.16', '0.42', '-0.33', '-0.30', '0.01', '-0.37', '0.60', '0.85', '-0.73', '0.20', '0.58', '-0.81', '-0.19', '0.01', '-0.18', '0.14', '0.06']\n",
            "True: tensor(6)  - predicted: tensor(6) ['1.55', '0.09', '0.07', '-0.91', '0.20', '-0.06', '1.80', '-0.92', '-1.44', '0.40', '-0.29', '-0.31', '0.45', '0.13', '-0.44', '-1.05', '-0.72', '-0.36', '0.07', '0.80']\n"
          ]
        }
      ],
      "source": [
        "for i in range(len(torch.max(outputs, 1)[1])):\n",
        "    formatted_tensor = [f\"{val:.2f}\" for val in outputs[i].tolist()]\n",
        "    print('True:',labels[i], ' - predicted:', torch.max(outputs, 1)[1][i], formatted_tensor)"
      ]
    },
    {
      "cell_type": "code",
      "execution_count": 29,
      "metadata": {},
      "outputs": [
        {
          "data": {
            "text/plain": [
              "tensor([-2.7647, -2.0875,  1.8545,  0.9179,  1.0721,  0.0081, -1.9767,  0.1883,\n",
              "        -2.2914,  2.0137, -0.5033,  0.4946, -0.6050,  0.9940, -1.9738,  2.4961,\n",
              "         0.3647, -0.7823,  1.0296, -1.2975], grad_fn=<AddBackward0>)"
            ]
          },
          "execution_count": 29,
          "metadata": {},
          "output_type": "execute_result"
        }
      ],
      "source": [
        "outputs[0] + outputs[1]"
      ]
    }
  ],
  "metadata": {
    "accelerator": "GPU",
    "colab": {
      "gpuType": "T4",
      "provenance": []
    },
    "kernelspec": {
      "display_name": "py311",
      "language": "python",
      "name": "python3"
    },
    "language_info": {
      "codemirror_mode": {
        "name": "ipython",
        "version": 3
      },
      "file_extension": ".py",
      "mimetype": "text/x-python",
      "name": "python",
      "nbconvert_exporter": "python",
      "pygments_lexer": "ipython3",
      "version": "3.11.5"
    }
  },
  "nbformat": 4,
  "nbformat_minor": 0
}
